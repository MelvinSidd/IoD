{
 "cells": [
  {
   "cell_type": "markdown",
   "metadata": {
    "id": "7KeNKtNL2Ix-"
   },
   "source": [
    "<div>\n",
    "<img src=https://www.institutedata.com/wp-content/uploads/2019/10/iod_h_tp_primary_c.svg width=\"300\">\n",
    "</div>\n",
    "\n",
    "# Python - Lab 1\n",
    "\n",
    "## Learning objectives\n",
    "\n",
    "This lab demonstrates examples of:\n",
    "\n",
    "1. Creating and manipulating lists\n",
    "2. For loops\n",
    "3. Importing modules and functions\n",
    "4. Creating dictonaries\n",
    "\n",
    "## Instructions:\n",
    "\n",
    "1. Replace ??? with the appropriate code\n",
    "2. Press Shift + Enter to execute cell\n",
    "\n"
   ]
  },
  {
   "cell_type": "code",
   "execution_count": null,
   "metadata": {
    "id": "O1xoAb-G7DiM"
   },
   "outputs": [],
   "source": []
  },
  {
   "cell_type": "markdown",
   "metadata": {
    "id": "HZ_JC2K58kco"
   },
   "source": [
    "This is an example cell for text"
   ]
  },
  {
   "cell_type": "code",
   "execution_count": null,
   "metadata": {
    "id": "G34nwJwe8iW3"
   },
   "outputs": [],
   "source": []
  },
  {
   "cell_type": "code",
   "execution_count": 13,
   "metadata": {
    "id": "NaRcNY1l2LbD",
    "tags": []
   },
   "outputs": [],
   "source": [
    "# create a list of 10 students (use just first name)\n",
    "students = ['alice','ben','cathy','dawn','emily','fern','emma','sean','felix','hugh']"
   ]
  },
  {
   "cell_type": "code",
   "execution_count": 2,
   "metadata": {
    "id": "lyMlOgoUZ2R4",
    "tags": []
   },
   "outputs": [
    {
     "name": "stdout",
     "output_type": "stream",
     "text": [
      "['alice', 'ben', 'cathy', 'dawn', 'emily', 'fern', 'emma', 'sean', 'felix', 'hugh']\n"
     ]
    }
   ],
   "source": [
    "# Print the list\n",
    "print(students)"
   ]
  },
  {
   "cell_type": "code",
   "execution_count": 14,
   "metadata": {
    "id": "LtbLA_T811kr",
    "tags": []
   },
   "outputs": [
    {
     "name": "stdout",
     "output_type": "stream",
     "text": [
      "Index 00 \t alice\n",
      "Index 01 \t ben\n",
      "Index 02 \t cathy\n",
      "Index 03 \t dawn\n",
      "Index 04 \t emily\n",
      "Index 05 \t fern\n",
      "Index 06 \t emma\n",
      "Index 07 \t sean\n",
      "Index 08 \t felix\n",
      "Index 09 \t hugh\n"
     ]
    }
   ],
   "source": [
    "# print the list of students\n",
    "# in the following format\n",
    "# Index 01 \t Alice\n",
    "# Index 02 \t Bob\n",
    "# Index 03 \t Pradeep\n",
    "for i, student in enumerate(students):\n",
    "    print(f'Index {i:02d} \\t {student}')"
   ]
  },
  {
   "cell_type": "code",
   "execution_count": 16,
   "metadata": {
    "id": "OF5sj3CX1lHl",
    "tags": []
   },
   "outputs": [
    {
     "name": "stdout",
     "output_type": "stream",
     "text": [
      "Index 00 \t hugh\n",
      "Index 01 \t felix\n",
      "Index 02 \t sean\n",
      "Index 03 \t emma\n",
      "Index 04 \t fern\n",
      "Index 05 \t emily\n",
      "Index 06 \t dawn\n",
      "Index 07 \t cathy\n",
      "Index 08 \t ben\n",
      "Index 09 \t alice\n"
     ]
    }
   ],
   "source": [
    "# print the list of students in reverse order one student in a line with its index\n",
    "# google search how to print list in reverse order\n",
    "reversed_list = students[::-1]\n",
    "for index, student in enumerate(students):\n",
    "    print(f\"Index {index:02d} \\t {student}\")"
   ]
  },
  {
   "cell_type": "code",
   "execution_count": 22,
   "metadata": {
    "id": "eAdtim4G1pyV",
    "tags": []
   },
   "outputs": [
    {
     "name": "stdout",
     "output_type": "stream",
     "text": [
      "['felix', 'hugh', 'fern', 'alice', 'emily', 'emma', 'sean', 'ben', 'cathy', 'dawn']\n"
     ]
    }
   ],
   "source": [
    "# print the student list in random order\n",
    "# hint look up the function random.sample\n",
    "import random\n",
    "random_students = random.sample(students, len(students))\n",
    "print(random_students)\n"
   ]
  },
  {
   "cell_type": "code",
   "execution_count": 1,
   "metadata": {
    "colab": {
     "base_uri": "https://localhost:8080/"
    },
    "executionInfo": {
     "elapsed": 301,
     "status": "ok",
     "timestamp": 1684804333142,
     "user": {
      "displayName": "Chaitanya Rao",
      "userId": "16367114639785284684"
     },
     "user_tz": -600
    },
    "id": "sfKkL5dt1tqG",
    "outputId": "a7623863-4f0d-4300-adaf-a344ec1fcc81",
    "tags": []
   },
   "outputs": [
    {
     "name": "stdout",
     "output_type": "stream",
     "text": [
      "Students and their marks: \n",
      " ['fern', 'alice', 'cathy', 'hugh', 'sean', 'felix', 'emily', 'dawn', 'emma', 'ben']\n"
     ]
    }
   ],
   "source": [
    "# my quiz if for listing students in decreasing order of their exam marks given their marks below\n",
    "# I just happen to remember the solution, but I want to understand more about the .get please bro\n",
    "\n",
    "\n",
    "students = ['alice','ben','cathy','dawn','emily','fern','emma','sean','felix','hugh']\n",
    "marks = [87,45,76,64,66,90,55,73,69,75]\n",
    "studentsAndMarks = dict(zip(students,marks))\n",
    "\n",
    "studentsAndMarks = sorted(studentsAndMarks, key=studentsAndMarks.get, reverse=True)\n",
    "print(f\"Students and their marks: \\n {studentsAndMarks}\")\n"
   ]
  },
  {
   "cell_type": "markdown",
   "metadata": {
    "id": "1sXaEeYiyju-"
   },
   "source": [
    "\n",
    "\n",
    "---\n",
    "\n",
    "\n",
    "\n",
    "---\n",
    "\n",
    "\n",
    "\n",
    "> > > > > > > > > © 2023 Institute of Data\n",
    "\n",
    "\n",
    "---\n",
    "\n",
    "\n",
    "\n",
    "---\n",
    "\n",
    "\n",
    "\n"
   ]
  }
 ],
 "metadata": {
  "colab": {
   "provenance": []
  },
  "kernelspec": {
   "display_name": "Python 3 (ipykernel)",
   "language": "python",
   "name": "python3"
  },
  "language_info": {
   "codemirror_mode": {
    "name": "ipython",
    "version": 3
   },
   "file_extension": ".py",
   "mimetype": "text/x-python",
   "name": "python",
   "nbconvert_exporter": "python",
   "pygments_lexer": "ipython3",
   "version": "3.11.4"
  }
 },
 "nbformat": 4,
 "nbformat_minor": 4
}
